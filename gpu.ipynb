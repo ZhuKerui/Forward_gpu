{
 "cells": [
  {
   "cell_type": "code",
   "execution_count": 1,
   "metadata": {},
   "outputs": [],
   "source": [
    "import json"
   ]
  },
  {
   "cell_type": "code",
   "execution_count": 11,
   "metadata": {},
   "outputs": [],
   "source": [
    "with open('osprey1_log.json') as f_in:\n",
    "    gpu_log:dict = json.load(f_in)\n",
    "# for k, v in gpu_log.items():\n",
    "#     v['y'] = [2023] * len(v['util'])\n",
    "#     v['m'] = [9] * len(v['util'])\n",
    "# with open('log.json', 'w') as f_out:\n",
    "#     json.dump(gpu_log, f_out)"
   ]
  },
  {
   "cell_type": "code",
   "execution_count": 12,
   "metadata": {},
   "outputs": [
    {
     "data": {
      "text/plain": [
       "[0,\n",
       " 0,\n",
       " {'kkroy2': 35680, 'gdm': 23},\n",
       " {'kkroy2': 35680, 'gdm': 23},\n",
       " {'kkroy2': 35680, 'gdm': 23},\n",
       " {'kkroy2': 35680, 'gdm': 23},\n",
       " {'kkroy2': 35680, 'gdm': 23},\n",
       " {'kkroy2': 35680, 'gdm': 23},\n",
       " {'kkroy2': 35680, 'gdm': 23},\n",
       " {'kkroy2': 35680, 'gdm': 23},\n",
       " {'kkroy2': 35680, 'gdm': 23},\n",
       " {'kkroy2': 35680, 'gdm': 23},\n",
       " {'kkroy2': 35680, 'gdm': 23},\n",
       " {'kkroy2': 35680, 'gdm': 23},\n",
       " {'kkroy2': 35680, 'gdm': 23},\n",
       " {'kkroy2': 35680, 'gdm': 23},\n",
       " {'kkroy2': 35680, 'gdm': 23},\n",
       " {'kkroy2': 35680, 'gdm': 23},\n",
       " {'kkroy2': 35680, 'gdm': 23},\n",
       " {'kkroy2': 35680, 'gdm': 23},\n",
       " {'kkroy2': 35680, 'gdm': 23},\n",
       " {'kkroy2': 35680, 'gdm': 23},\n",
       " {'kkroy2': 35680, 'gdm': 23},\n",
       " {'kkroy2': 35680, 'gdm': 23},\n",
       " {'kkroy2': 35680, 'gdm': 23},\n",
       " {'kkroy2': 35680, 'gdm': 23},\n",
       " {'kkroy2': 35680, 'gdm': 23},\n",
       " {'kkroy2': 35680, 'gdm': 23},\n",
       " {'kkroy2': 35680, 'gdm': 23},\n",
       " {'kkroy2': 35680, 'gdm': 23},\n",
       " {'kkroy2': 35680, 'gdm': 23},\n",
       " {'kkroy2': 35680, 'gdm': 23},\n",
       " {'kkroy2': 35680, 'gdm': 23},\n",
       " {'kkroy2': 35680, 'gdm': 23},\n",
       " {'kkroy2': 35680, 'gdm': 23},\n",
       " {'kkroy2': 35680, 'gdm': 23},\n",
       " {'kkroy2': 35680, 'gdm': 23},\n",
       " {'kkroy2': 35680, 'gdm': 23},\n",
       " {'kkroy2': 35680, 'gdm': 23},\n",
       " {'kkroy2': 35680, 'gdm': 23},\n",
       " {'kkroy2': 35680, 'gdm': 23},\n",
       " {'kkroy2': 35680, 'gdm': 23},\n",
       " {'kkroy2': 35680, 'gdm': 23},\n",
       " {'kkroy2': 35680, 'gdm': 23},\n",
       " {'kkroy2': 35680, 'gdm': 23},\n",
       " {'kkroy2': 35680, 'gdm': 23},\n",
       " {'kkroy2': 35680, 'gdm': 23},\n",
       " {'kkroy2': 35680, 'gdm': 23},\n",
       " {'kkroy2': 35680, 'gdm': 23},\n",
       " {'kkroy2': 35680, 'gdm': 23},\n",
       " {'kkroy2': 35680, 'gdm': 23},\n",
       " {'kkroy2': 35680, 'gdm': 23},\n",
       " {'kkroy2': 35680, 'gdm': 23},\n",
       " {'kkroy2': 35680, 'gdm': 23},\n",
       " {'kkroy2': 35680, 'gdm': 23},\n",
       " {'kkroy2': 35680, 'gdm': 23},\n",
       " {'kkroy2': 35680, 'gdm': 23},\n",
       " {'kkroy2': 35680, 'gdm': 23},\n",
       " {'kkroy2': 35680, 'gdm': 23},\n",
       " {'kkroy2': 35680, 'gdm': 23}]"
      ]
     },
     "execution_count": 12,
     "metadata": {},
     "output_type": "execute_result"
    }
   ],
   "source": [
    "gpu_log['0']['p'][-60:]"
   ]
  },
  {
   "cell_type": "code",
   "execution_count": 10,
   "metadata": {},
   "outputs": [
    {
     "data": {
      "text/plain": [
       "False"
      ]
     },
     "execution_count": 10,
     "metadata": {},
     "output_type": "execute_result"
    }
   ],
   "source": [
    "{} == 0"
   ]
  }
 ],
 "metadata": {
  "kernelspec": {
   "display_name": "peft",
   "language": "python",
   "name": "python3"
  },
  "language_info": {
   "codemirror_mode": {
    "name": "ipython",
    "version": 3
   },
   "file_extension": ".py",
   "mimetype": "text/x-python",
   "name": "python",
   "nbconvert_exporter": "python",
   "pygments_lexer": "ipython3",
   "version": "3.8.18"
  },
  "orig_nbformat": 4
 },
 "nbformat": 4,
 "nbformat_minor": 2
}
